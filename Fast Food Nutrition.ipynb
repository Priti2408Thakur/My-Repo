{
 "cells": [
  {
   "cell_type": "code",
   "execution_count": 3,
   "id": "6e8d743c-1ad3-4571-8200-ef933f8b191d",
   "metadata": {},
   "outputs": [],
   "source": [
    "import pandas as pd"
   ]
  },
  {
   "cell_type": "code",
   "execution_count": 4,
   "id": "8ce53053-360e-44dc-af44-e8bc366517c1",
   "metadata": {},
   "outputs": [
    {
     "data": {
      "text/plain": [
       "<module 'pandas' from 'C:\\\\Users\\\\admin\\\\AppData\\\\Local\\\\Programs\\\\Python\\\\Python311\\\\Lib\\\\site-packages\\\\pandas\\\\__init__.py'>"
      ]
     },
     "execution_count": 4,
     "metadata": {},
     "output_type": "execute_result"
    }
   ],
   "source": [
    "pd"
   ]
  },
  {
   "cell_type": "code",
   "execution_count": 5,
   "id": "47aa283e-a7f0-4e19-961d-c49f32f45131",
   "metadata": {},
   "outputs": [],
   "source": [
    "df2=pd.read_csv('large_nutrition_data.csv')"
   ]
  },
  {
   "cell_type": "code",
   "execution_count": 6,
   "id": "e529278f-ec59-4d5f-a9df-8d7d3cd05510",
   "metadata": {},
   "outputs": [
    {
     "data": {
      "text/html": [
       "<div>\n",
       "<style scoped>\n",
       "    .dataframe tbody tr th:only-of-type {\n",
       "        vertical-align: middle;\n",
       "    }\n",
       "\n",
       "    .dataframe tbody tr th {\n",
       "        vertical-align: top;\n",
       "    }\n",
       "\n",
       "    .dataframe thead th {\n",
       "        text-align: right;\n",
       "    }\n",
       "</style>\n",
       "<table border=\"1\" class=\"dataframe\">\n",
       "  <thead>\n",
       "    <tr style=\"text-align: right;\">\n",
       "      <th></th>\n",
       "      <th>Item</th>\n",
       "      <th>Category</th>\n",
       "      <th>Calories</th>\n",
       "      <th>Total Fat</th>\n",
       "      <th>Carbohydrates</th>\n",
       "      <th>Protein</th>\n",
       "      <th>Sodium</th>\n",
       "    </tr>\n",
       "  </thead>\n",
       "  <tbody>\n",
       "    <tr>\n",
       "      <th>0</th>\n",
       "      <td>Nuggets</td>\n",
       "      <td>Vegetarian</td>\n",
       "      <td>415</td>\n",
       "      <td>18</td>\n",
       "      <td>9</td>\n",
       "      <td>24</td>\n",
       "      <td>818</td>\n",
       "    </tr>\n",
       "    <tr>\n",
       "      <th>1</th>\n",
       "      <td>Burger</td>\n",
       "      <td>Vegetarian</td>\n",
       "      <td>822</td>\n",
       "      <td>0</td>\n",
       "      <td>65</td>\n",
       "      <td>7</td>\n",
       "      <td>616</td>\n",
       "    </tr>\n",
       "    <tr>\n",
       "      <th>2</th>\n",
       "      <td>Wrap</td>\n",
       "      <td>Fast Food</td>\n",
       "      <td>557</td>\n",
       "      <td>48</td>\n",
       "      <td>27</td>\n",
       "      <td>31</td>\n",
       "      <td>780</td>\n",
       "    </tr>\n",
       "    <tr>\n",
       "      <th>3</th>\n",
       "      <td>Sandwich</td>\n",
       "      <td>Vegan</td>\n",
       "      <td>155</td>\n",
       "      <td>12</td>\n",
       "      <td>20</td>\n",
       "      <td>18</td>\n",
       "      <td>1135</td>\n",
       "    </tr>\n",
       "    <tr>\n",
       "      <th>4</th>\n",
       "      <td>Wrap</td>\n",
       "      <td>Fast Food</td>\n",
       "      <td>335</td>\n",
       "      <td>20</td>\n",
       "      <td>56</td>\n",
       "      <td>21</td>\n",
       "      <td>967</td>\n",
       "    </tr>\n",
       "    <tr>\n",
       "      <th>...</th>\n",
       "      <td>...</td>\n",
       "      <td>...</td>\n",
       "      <td>...</td>\n",
       "      <td>...</td>\n",
       "      <td>...</td>\n",
       "      <td>...</td>\n",
       "      <td>...</td>\n",
       "    </tr>\n",
       "    <tr>\n",
       "      <th>2995</th>\n",
       "      <td>Fries</td>\n",
       "      <td>Vegetarian</td>\n",
       "      <td>643</td>\n",
       "      <td>41</td>\n",
       "      <td>89</td>\n",
       "      <td>6</td>\n",
       "      <td>676</td>\n",
       "    </tr>\n",
       "    <tr>\n",
       "      <th>2996</th>\n",
       "      <td>Nuggets</td>\n",
       "      <td>Vegan</td>\n",
       "      <td>754</td>\n",
       "      <td>6</td>\n",
       "      <td>64</td>\n",
       "      <td>11</td>\n",
       "      <td>70</td>\n",
       "    </tr>\n",
       "    <tr>\n",
       "      <th>2997</th>\n",
       "      <td>Taco</td>\n",
       "      <td>Healthy</td>\n",
       "      <td>545</td>\n",
       "      <td>10</td>\n",
       "      <td>45</td>\n",
       "      <td>2</td>\n",
       "      <td>971</td>\n",
       "    </tr>\n",
       "    <tr>\n",
       "      <th>2998</th>\n",
       "      <td>Pasta</td>\n",
       "      <td>Fast Food</td>\n",
       "      <td>687</td>\n",
       "      <td>41</td>\n",
       "      <td>50</td>\n",
       "      <td>11</td>\n",
       "      <td>1148</td>\n",
       "    </tr>\n",
       "    <tr>\n",
       "      <th>2999</th>\n",
       "      <td>Sandwich</td>\n",
       "      <td>Vegan</td>\n",
       "      <td>529</td>\n",
       "      <td>14</td>\n",
       "      <td>61</td>\n",
       "      <td>29</td>\n",
       "      <td>807</td>\n",
       "    </tr>\n",
       "  </tbody>\n",
       "</table>\n",
       "<p>3000 rows × 7 columns</p>\n",
       "</div>"
      ],
      "text/plain": [
       "          Item    Category  Calories  Total Fat  Carbohydrates  Protein  \\\n",
       "0      Nuggets  Vegetarian       415         18              9       24   \n",
       "1       Burger  Vegetarian       822          0             65        7   \n",
       "2         Wrap   Fast Food       557         48             27       31   \n",
       "3     Sandwich       Vegan       155         12             20       18   \n",
       "4         Wrap   Fast Food       335         20             56       21   \n",
       "...        ...         ...       ...        ...            ...      ...   \n",
       "2995     Fries  Vegetarian       643         41             89        6   \n",
       "2996   Nuggets       Vegan       754          6             64       11   \n",
       "2997      Taco     Healthy       545         10             45        2   \n",
       "2998     Pasta   Fast Food       687         41             50       11   \n",
       "2999  Sandwich       Vegan       529         14             61       29   \n",
       "\n",
       "      Sodium  \n",
       "0        818  \n",
       "1        616  \n",
       "2        780  \n",
       "3       1135  \n",
       "4        967  \n",
       "...      ...  \n",
       "2995     676  \n",
       "2996      70  \n",
       "2997     971  \n",
       "2998    1148  \n",
       "2999     807  \n",
       "\n",
       "[3000 rows x 7 columns]"
      ]
     },
     "execution_count": 6,
     "metadata": {},
     "output_type": "execute_result"
    }
   ],
   "source": [
    "df2"
   ]
  },
  {
   "cell_type": "code",
   "execution_count": 7,
   "id": "3582e824-8c23-42d3-bc76-209b1da1af46",
   "metadata": {},
   "outputs": [
    {
     "data": {
      "text/html": [
       "<div>\n",
       "<style scoped>\n",
       "    .dataframe tbody tr th:only-of-type {\n",
       "        vertical-align: middle;\n",
       "    }\n",
       "\n",
       "    .dataframe tbody tr th {\n",
       "        vertical-align: top;\n",
       "    }\n",
       "\n",
       "    .dataframe thead th {\n",
       "        text-align: right;\n",
       "    }\n",
       "</style>\n",
       "<table border=\"1\" class=\"dataframe\">\n",
       "  <thead>\n",
       "    <tr style=\"text-align: right;\">\n",
       "      <th></th>\n",
       "      <th>Item</th>\n",
       "      <th>Calories</th>\n",
       "    </tr>\n",
       "  </thead>\n",
       "  <tbody>\n",
       "    <tr>\n",
       "      <th>2921</th>\n",
       "      <td>Fries</td>\n",
       "      <td>900</td>\n",
       "    </tr>\n",
       "    <tr>\n",
       "      <th>575</th>\n",
       "      <td>Sandwich</td>\n",
       "      <td>900</td>\n",
       "    </tr>\n",
       "    <tr>\n",
       "      <th>2401</th>\n",
       "      <td>Pizza</td>\n",
       "      <td>899</td>\n",
       "    </tr>\n",
       "    <tr>\n",
       "      <th>359</th>\n",
       "      <td>Soup</td>\n",
       "      <td>898</td>\n",
       "    </tr>\n",
       "    <tr>\n",
       "      <th>701</th>\n",
       "      <td>Pasta</td>\n",
       "      <td>898</td>\n",
       "    </tr>\n",
       "  </tbody>\n",
       "</table>\n",
       "</div>"
      ],
      "text/plain": [
       "          Item  Calories\n",
       "2921     Fries       900\n",
       "575   Sandwich       900\n",
       "2401     Pizza       899\n",
       "359       Soup       898\n",
       "701      Pasta       898"
      ]
     },
     "execution_count": 7,
     "metadata": {},
     "output_type": "execute_result"
    }
   ],
   "source": [
    "df2.sort_values(by='Calories', ascending=False).head(5)[['Item', 'Calories']]"
   ]
  },
  {
   "cell_type": "code",
   "execution_count": 8,
   "id": "204ad6cc-6bb0-441b-8fdb-d198f56d4d6d",
   "metadata": {},
   "outputs": [
    {
     "data": {
      "text/html": [
       "<div>\n",
       "<style scoped>\n",
       "    .dataframe tbody tr th:only-of-type {\n",
       "        vertical-align: middle;\n",
       "    }\n",
       "\n",
       "    .dataframe tbody tr th {\n",
       "        vertical-align: top;\n",
       "    }\n",
       "\n",
       "    .dataframe thead th {\n",
       "        text-align: right;\n",
       "    }\n",
       "</style>\n",
       "<table border=\"1\" class=\"dataframe\">\n",
       "  <thead>\n",
       "    <tr style=\"text-align: right;\">\n",
       "      <th></th>\n",
       "      <th>Item</th>\n",
       "      <th>Sodium</th>\n",
       "    </tr>\n",
       "  </thead>\n",
       "  <tbody>\n",
       "    <tr>\n",
       "      <th>2381</th>\n",
       "      <td>Wrap</td>\n",
       "      <td>1500</td>\n",
       "    </tr>\n",
       "    <tr>\n",
       "      <th>1792</th>\n",
       "      <td>Taco</td>\n",
       "      <td>1500</td>\n",
       "    </tr>\n",
       "    <tr>\n",
       "      <th>544</th>\n",
       "      <td>Pasta</td>\n",
       "      <td>1500</td>\n",
       "    </tr>\n",
       "    <tr>\n",
       "      <th>405</th>\n",
       "      <td>Pasta</td>\n",
       "      <td>1499</td>\n",
       "    </tr>\n",
       "    <tr>\n",
       "      <th>440</th>\n",
       "      <td>Nuggets</td>\n",
       "      <td>1498</td>\n",
       "    </tr>\n",
       "  </tbody>\n",
       "</table>\n",
       "</div>"
      ],
      "text/plain": [
       "         Item  Sodium\n",
       "2381     Wrap    1500\n",
       "1792     Taco    1500\n",
       "544     Pasta    1500\n",
       "405     Pasta    1499\n",
       "440   Nuggets    1498"
      ]
     },
     "execution_count": 8,
     "metadata": {},
     "output_type": "execute_result"
    }
   ],
   "source": [
    "df2[['Item', 'Sodium']].sort_values(by='Sodium', ascending=False).head(5)"
   ]
  },
  {
   "cell_type": "code",
   "execution_count": 9,
   "id": "6c16df55-660a-481f-8719-f53c962f5002",
   "metadata": {},
   "outputs": [
    {
     "name": "stdout",
     "output_type": "stream",
     "text": [
      "      Item  Protein\n",
      "584   Taco       40\n",
      "1653  Soup       40\n",
      "1663  Wrap       40\n"
     ]
    }
   ],
   "source": [
    "print(df2[['Item', 'Protein']].sort_values(by='Protein', ascending=False).head(3))\n"
   ]
  },
  {
   "cell_type": "code",
   "execution_count": 10,
   "id": "17a0162a-a4e9-46a0-bc73-bcb8bf74f2e6",
   "metadata": {},
   "outputs": [
    {
     "data": {
      "text/plain": [
       "Category\n",
       "Fast Food         514.017361\n",
       "Healthy           522.925424\n",
       "Non-Vegetarian    536.392744\n",
       "Vegan             528.469115\n",
       "Vegetarian        518.430948\n",
       "Name: Calories, dtype: float64"
      ]
     },
     "execution_count": 10,
     "metadata": {},
     "output_type": "execute_result"
    }
   ],
   "source": [
    "df2.groupby('Category')['Calories'].mean()"
   ]
  },
  {
   "cell_type": "code",
   "execution_count": null,
   "id": "e82b1c07-d008-44fe-9691-ea02eec476a6",
   "metadata": {},
   "outputs": [],
   "source": []
  }
 ],
 "metadata": {
  "kernelspec": {
   "display_name": "Python 3 (ipykernel)",
   "language": "python",
   "name": "python3"
  },
  "language_info": {
   "codemirror_mode": {
    "name": "ipython",
    "version": 3
   },
   "file_extension": ".py",
   "mimetype": "text/x-python",
   "name": "python",
   "nbconvert_exporter": "python",
   "pygments_lexer": "ipython3",
   "version": "3.11.4"
  }
 },
 "nbformat": 4,
 "nbformat_minor": 5
}
